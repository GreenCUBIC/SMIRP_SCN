{
 "cells": [
  {
   "cell_type": "code",
   "execution_count": 1,
   "metadata": {
    "collapsed": true
   },
   "outputs": [],
   "source": [
    "import numpy as np\n",
    "import pandas as pd\n",
    "from sklearn.metrics import accuracy_score, precision_recall_curve, PrecisionRecallDisplay, auc\n",
    "from sklearn import preprocessing\n",
    "from sklearn.ensemble import RandomForestClassifier\n",
    "from imblearn.over_sampling import SMOTE\n",
    "import pickle\n",
    "import matplotlib.pyplot as plt\n",
    "import seaborn as sns\n",
    "n_estimators = 500\n",
    "random_state = 42"
   ]
  },
  {
   "cell_type": "markdown",
   "metadata": {},
   "source": [
    "# Train and Apply micoRNA Discovery model\n",
    "This notebook demonstrates how to train and apply the microRNA discovery model based on species specifc training data from SMIRP"
   ]
  },
  {
   "cell_type": "code",
   "execution_count": null,
   "metadata": {},
   "outputs": [],
   "source": [
    "positive_data_file = ''\n",
    "negative_data_file = ''\n",
    "ouput_folder_location = ''\n",
    "candidate_set_file = ''"
   ]
  },
  {
   "cell_type": "code",
   "execution_count": 11,
   "metadata": {
    "collapsed": false,
    "pycharm": {
     "name": "#%%\n"
    }
   },
   "outputs": [],
   "source": [
    "train_data = pd.concat([pd.read_csv(positive_data_file, header=None),pd.read_csv(negative_data_file, header=None)],axis=1)\n",
    "train_data[22] = train_data[22].map(dict(miRNA=1,pseudo=0))\n",
    "\n",
    "X_train = train_data.drop(columns=[0,1,22])\n",
    "Y_train = train_data[22]\n",
    "\n",
    "scaler = preprocessing.MinMaxScaler()\n",
    "scaler.fit(X_train)\n",
    "X_scale = scaler.transform(X_train)\n",
    "\n",
    "experiment_RF = RandomForestClassifier(n_estimators = n_estimators)\n",
    "\n",
    "#Initalize SMOTE algorithm\n",
    "smoter = SMOTE(sampling_strategy='minority',random_state=42)\n",
    "\n",
    "#Upsample training data\n",
    "X_upsample, y_upsample = smoter.fit_resample(X_scale,Y_train)\n",
    "\n",
    "#Fit the model on the upsampled training data\n",
    "experiment_RF = experiment_RF.fit(X_upsample, y_upsample)\n",
    "\n",
    "pickle.dump(scaler, open(f\"{ouput_folder_location}/miRNA_discovery_scaler.pkl\", \"wb\" ))\n",
    "pickle.dump(experiment_RF, open(f\"{ouput_folder_location}/miRNA_discovery_random_forest_model.pkl\", \"wb\" ))"
   ]
  },
  {
   "cell_type": "code",
   "execution_count": null,
   "metadata": {},
   "outputs": [],
   "source": [
    "results = pd.concat([train_data.iloc[:,0], pd.DataFrame(y_upsample),pd.DataFrame(experiment_RF.predict_proba(X_upsample)[1])], axiz=0)\n",
    "\n",
    "precision, recall, threshold = precision_recall_curve(results.iloc[:,1],results.iloc[:,2])\n",
    "disp1 = PrecisionRecallDisplay(precision=precision, recall=recall)\n",
    "disp1.plot()\n",
    "loc_08 = np.where(np.abs(threshold-0.8)<0.00201)[0][0]\n",
    "loc_09 = np.where(np.abs(threshold-0.9)<0.003)[0][0]\n",
    "disp1.ax_.annotate(\"Threshold: 0.8\",(recall[loc_08],precision[loc_08]))\n",
    "disp1.ax_.plot(recall[loc_08],precision[loc_08],color='red',marker='o', markersize=5)\n",
    "disp1.ax_.annotate(\"Threshold: 0.9\",(recall[loc_09],precision[loc_09]))\n",
    "disp1.ax_.plot(recall[loc_09],precision[loc_09],color='red',marker='o', markersize=5)\n",
    "y_pred_08 = np.where(results.iloc[:,2] >=0.8,1,0)\n",
    "y_pred_09 = np.where(results.iloc[:,2] >=0.9,1,0)\n",
    "print(f'Threshold 0.8: ({recall[loc_08]},{precision[loc_08]}) Accuracy: {accuracy_score(results.iloc[:,1],y_pred_08)}')\n",
    "print(f'Threshold 0.9: ({recall[loc_09]},{precision[loc_09]}) Accuracy: {accuracy_score(results.iloc[:,1],y_pred_09)}')\n",
    "print(f'AUC: {auc(recall, precision)}')\n",
    "print(f'Precision at Recall 50% {precision[np.where(np.abs(recall-0.5)<0.002)[0]]}')\n",
    "plt.title(\"Precision-Recall Curve of PP-holdout Test Results\\n(a)\")\n",
    "plt.savefig(f\"{ouput_folder_location}/miRNA_discovery_training_set_PR_curve.png\")\n",
    "plt.show()\n",
    "\n",
    "\n",
    "positive_data = results.iloc[np.where(results.iloc[:,1] == 1)[0], 2]\n",
    "positive_data.name = \"miRNA Prediction Confidence\"\n",
    "negative_data = results.iloc[np.where(results.iloc[:,1] == 0)[0], 2]\n",
    "negative_data.name = \"miRNA Prediction Confidence\"\n",
    "\n",
    "sns.distplot(positive_data, hist=False, kde=True, kde_kws={'shade': True, 'linewidth': 3}, label=\"Positive Test Data\", color=\"blue\", norm_hist=True)\n",
    "sns.distplot(negative_data, hist=False, kde=True, kde_kws={'shade': True, 'linewidth': 3}, label=\"Negative Test Data\", color=\"red\", norm_hist=True)\n",
    "plt.ylabel(\"Density\")\n",
    "plt.title(\"Kernel Density Plot of PP-holdout Test Results\\n(a)\")\n",
    "plt.savefig(f\"{ouput_folder_location}/miRNA_discovery_training_set_density_plot.png\")\n",
    "plt.show()"
   ]
  },
  {
   "cell_type": "code",
   "execution_count": 13,
   "metadata": {
    "collapsed": false,
    "pycharm": {
     "name": "#%%\n"
    }
   },
   "outputs": [],
   "source": [
    "unknown = pd.read_csv(candidate_set_file, header=None)\n",
    "X_unknown = unknown.drop(columns=[0,1])\n",
    "\n",
    "y_prediction_RF = experiment_RF.predict_proba(scaler.transform(X_unknown))[:,1]\n",
    "\n",
    "results_RF_3 = pd.DataFrame(unknown[0])\n",
    "results_RF_3[1] = y_prediction_RF\n",
    "results_RF_3.to_csv(f\"{ouput_folder_location}/candidate_set_predictions.csv\",index=False,header=False)"
   ]
  }
 ],
 "metadata": {
  "interpreter": {
   "hash": "36cf16204b8548560b1c020c4e8fb5b57f0e4c58016f52f2d4be01e192833930"
  },
  "kernelspec": {
   "display_name": "Python 3.9.5 64-bit",
   "language": "python",
   "name": "python3"
  },
  "language_info": {
   "codemirror_mode": {
    "name": "ipython",
    "version": 3
   },
   "file_extension": ".py",
   "mimetype": "text/x-python",
   "name": "python",
   "nbconvert_exporter": "python",
   "pygments_lexer": "ipython3",
   "version": "3.9.5"
  }
 },
 "nbformat": 4,
 "nbformat_minor": 0
}
